{
 "cells": [
  {
   "cell_type": "code",
   "execution_count": 2,
   "metadata": {},
   "outputs": [],
   "source": [
    "import numpy as np\n",
    "import os\n",
    "import tarfile\n",
    "from six.moves import urllib\n",
    "import pandas as pd\n",
    "\n",
    "workData = \"https://raw.githubusercontent.com/Web-Cam/MachineLearningProject/master/Absenteeism_at_work.csv\"\n",
    "dataset = pd.read_csv(workData)\n",
    "mldataset = pd.read_csv(workData)"
   ]
  },
  {
   "cell_type": "code",
   "execution_count": 3,
   "metadata": {},
   "outputs": [],
   "source": [
    "from sklearn import model_selection\n",
    "array = dataset.values\n",
    "\n",
    "X = np.c_[dataset[\"ID\"]]\n",
    "Y = np.c_[dataset[\"Month of absence\"]]\n",
    "test_size = 0.20\n"
   ]
  },
  {
   "cell_type": "code",
   "execution_count": 4,
   "metadata": {},
   "outputs": [
    {
     "data": {
      "text/plain": [
       "<Figure size 640x480 with 1 Axes>"
      ]
     },
     "metadata": {},
     "output_type": "display_data"
    }
   ],
   "source": [
    "import matplotlib.pyplot as plt\n",
    "dataset.plot(kind = 'hist',y= \"Month of absence\",histtype=\"bar\",edgecolor='black', linewidth=1.2,bins=range(1,14))\n",
    "plt.show()"
   ]
  },
  {
   "cell_type": "code",
   "execution_count": 5,
   "metadata": {},
   "outputs": [
    {
     "data": {
      "image/png": "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\n",
      "text/plain": [
       "<Figure size 432x288 with 1 Axes>"
      ]
     },
     "metadata": {},
     "output_type": "display_data"
    }
   ],
   "source": [
    "dataset.plot(kind = 'hist',y= \"Day of the week\",bins=range(2,8),edgecolor='black', linewidth=1.2)\n",
    "plt.show()"
   ]
  },
  {
   "cell_type": "code",
   "execution_count": 6,
   "metadata": {},
   "outputs": [
    {
     "data": {
      "image/png": "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\n",
      "text/plain": [
       "<Figure size 432x288 with 1 Axes>"
      ]
     },
     "metadata": {},
     "output_type": "display_data"
    }
   ],
   "source": [
    "dataset.plot(kind = 'hist',y= \"Body mass index\",edgecolor='black', linewidth=1.2,align='left')\n",
    "plt.show()"
   ]
  },
  {
   "cell_type": "code",
   "execution_count": 7,
   "metadata": {},
   "outputs": [],
   "source": [
    "from sklearn.model_selection import train_test_split\n",
    "from sklearn.neighbors import KNeighborsClassifier\n",
    "\n",
    "\n",
    "def TestTrain(x, y):\n",
    "\n",
    "    X_train, X_test, y_train, y_test = train_test_split(x, y, test_size = 0.20)\n",
    "    knn = KNeighborsClassifier()\n",
    "    knn.fit(X_train, y_train)\n",
    "    print('Accuracy: {}'.format(round(knn.score(X_test, y_test), 3)))\n",
    "    \n",
    "    \n"
   ]
  },
  {
   "cell_type": "code",
   "execution_count": 29,
   "metadata": {},
   "outputs": [],
   "source": [
    "#IMPORTANT ONE \n",
    "from sklearn.neural_network import MLPRegressor\n",
    "from sklearn.neural_network import MLPClassifier\n",
    "\n",
    "from sklearn.ensemble import RandomForestRegressor\n",
    "def TestTrainRF(x, y):\n",
    "\n",
    "    X_train, X_test, y_train, y_test = train_test_split(x, y, test_size = 0.20)\n",
    "    nn = MLPClassifier(max_iter=1000)\n",
    "    nn.fit(X_train, y_train)\n",
    "    print('Accuracy: {}'.format(round(nn.score(X_test, y_test), 3)))"
    "    print('PErcision: {}'.format((nn.score(X_test, y_test), 3)))"

   ]
  },
  {
   "cell_type": "code",
   "execution_count": 30,
   "metadata": {},
   "outputs": [
    {
     "name": "stdout",
     "output_type": "stream",
     "text": [
      "[[ 1. 22.  7. ... 29.  8. 23.]\n",
      " [ 1. 23.  8. ... 29.  4. 23.]\n",
      " [ 1. 26. 12. ... 29.  8. 23.]\n",
      " ...\n",
      " [36.  0.  5. ... 31.  0. 34.]\n",
      " [36. 19.  6. ... 31. 24. 34.]\n",
      " [36. 19.  6. ... 31.  3. 34.]]\n"
     ]
    },
    {
     "name": "stderr",
     "output_type": "stream",
     "text": [
      "C:\\Users\\Cameron\\Anaconda3\\lib\\site-packages\\sklearn\\utils\\deprecation.py:58: DeprecationWarning: Class Imputer is deprecated; Imputer was deprecated in version 0.20 and will be removed in 0.22. Import impute.SimpleImputer from sklearn instead.\n",
      "  warnings.warn(msg, category=DeprecationWarning)\n"
     ]
    }
   ],
   "source": [
    "#This cleans up the data, and gets rid of the null values\n",
    "from sklearn.preprocessing import Imputer\n",
    "my_imputer = Imputer()\n",
    "data_with_imputed_values = my_imputer.fit_transform(dataset)\n",
    "print(data_with_imputed_values)"
   ]
  },
  {
   "cell_type": "code",
   "execution_count": 31,
   "metadata": {},
   "outputs": [
    {
     "name": "stdout",
     "output_type": "stream",
     "text": [
      "Accuracy: 0.986\n"
     ]
    }
   ],
   "source": [
    "    y = dataset['Body mass index']\n",
    "    x = dataset.drop('Body mass index', axis=1)\n",
    "    TestTrainRF(x,y)"
   ]
  },
  {
   "cell_type": "code",
   "execution_count": 32,
   "metadata": {},
   "outputs": [
    {
     "name": "stdout",
     "output_type": "stream",
     "text": [
      "Accuracy: 0.372\n"
     ]
    }
   ],
   "source": [
    "    y = dataset['Absenteeism time in hours']\n",
    "    x = dataset.drop('Absenteeism time in hours', axis=1)\n",
    "    TestTrainRF(x,y)"
   ]
  },
  {
   "cell_type": "code",
   "execution_count": 11,
   "metadata": {},
   "outputs": [],
   "source": [
    "def estimateMissingEMP():\n",
    "    \n",
    "    ID = int(input(\"Enter Month\"))\n",
    "    if (ID > 12 or ID < 1):\n",
    "        ID = input(\"Enter month between 1 and 12\")\n",
    "    Day = int(input(\"Enter Day of Week\"))\n",
    "    if (Day > 33 or Day < 1):\n",
    "        ID = input(\"Enter day between 1 and 33\")\n",
    "    Seasons = int(input(\"Enter seasons\"))\n",
    "    return(ID,Day,Seasons)\n",
    "    "
   ]
  },
  {
   "cell_type": "code",
   "execution_count": 12,
   "metadata": {},
   "outputs": [],
   "source": [
    "def collectData():\n",
    "    ID = input(\"Enter Employee ID \")\n",
    "    Distance = input(\"Enter Employee Distance From work \")\n",
    "    Service = input(\"Enter Employee Service Time \")\n",
    "    AGE = input(\"Employee Age\")\n",
    "    EDU = input(\"Enter Employee Education\")\n",
    "    Child = input(\"Enter Number of children\")\n",
    "    Pets = input(\"Enter Number of pets\")\n",
    "    BMI = input(\"Enter BMI\")\n",
    "    return(ID,Distance,Service,AGE,EDU,Child,Pets,BMI)\n",
    "    "
   ]
  },
  {
   "cell_type": "code",
   "execution_count": 13,
   "metadata": {},
   "outputs": [],
   "source": [
    "def KNNPredict(x, y,df):\n",
    "    X_train, X_test, y_train, y_test = train_test_split(x, y, test_size = 0.20)\n",
    "    knn = KNeighborsClassifier()\n",
    "    knn.fit(X_train, y_train)    \n",
    "    return knn.predict(df2)"
   ]
  },
  {
   "cell_type": "code",
   "execution_count": 46,
   "metadata": {
    "scrolled": false
   },
   "outputs": [
    {
     "name": "stdout",
     "output_type": "stream",
     "text": [
      "Enter Employee ID 38\n",
      "Enter Employee Distance From work 54\n",
      "Enter Employee Service Time 0\n",
      "Employee Age34\n",
      "Enter Employee Education1\n",
      "Enter Number of children2\n",
      "Enter Number of pets4\n",
      "Enter BMI21\n",
      "DAYS EXPECTED TO BE ABSENT: [76]\n"
     ]
    }
   ],
   "source": [
    "    collection = collectData()\n",
    "    \n",
    "    df2 = pd.DataFrame({\"ID\":[collection[0]],\n",
    "                    \"Age\":[collection[3]],\n",
    "                    \"Distance from Residence to Work\":[collection[1]],\n",
    "                    \"Service time\":[collection[2]],\n",
    "                    \"Education\":[collection[4]],\n",
    "                        \"Son\":[collection[5]],\n",
    "                        \"pet\":[collection[6]],\n",
    "                        \"Body mass index\":[collection[7]]\n",
    "\n",
    "                              \n",
    "                              }) \n",
    "    \n",
    "    y = dataset['Total']\n",
    "\n",
    "    \n",
    "    x = dataset.drop(['Total','Reason for absence','Day of the week','Seasons','Transportation expense','Hit target',\n",
    "                     'Work load Average/day ','Social drinker','Social smoker','Weight','Height','Absenteeism time in hours','Month of absence',\n",
    "                      'Disciplinary failure'\n",
    "                     \n",
    "                     ], axis=1)\n",
    "\n",
    "\n",
    "\n",
    "    print(\"DAYS EXPECTED TO BE ABSENT:\" ,KNNPredict(x,y, df2))"
   ]
  },
  {
   "cell_type": "code",
   "execution_count": 30,
   "metadata": {
    "scrolled": true
   },
   "outputs": [
    {
     "name": "stdout",
     "output_type": "stream",
     "text": [
      "Enter Month12\n",
      "Enter Day of Week5\n",
      "Enter seasons4\n",
      "EMPLOYEES EXPECTED TO BE ABSENT: [1]\n"
     ]
    }
   ],
   "source": [
    "collection = estimateMissingEMP()\n",
    "df2 = pd.DataFrame({\"ID\":[collection[0]],\"Day of the week\":[collection[1]],\"Seasons\":[collection[2]]\n",
    "                              }) \n",
    "    \n",
    "y = dataset['Absenteeism time in hours']\n",
    "\n",
    "    \n",
    "x = dataset.drop(['Total','Reason for absence','Day of the week','Month of absence','Transportation expense','Distance from Residence to Work','Hit target',\n",
    "                     'Service time','Age','Work load Average/day ','Social drinker','Social smoker','Weight','Height','Absenteeism time in hours','Month of absence',\n",
    "                      'Disciplinary failure','Education','Son','ID'\n",
    "                     \n",
    "                     ], axis=1)\n",
    "\n",
    "prediction = KNNPredict(x,y, df2)\n",
    "int(prediction)\n",
    "print(\"EMPLOYEES EXPECTED TO BE ABSENT:\" ,prediction)"
   ]
  },
  {
   "cell_type": "code",
   "execution_count": 28,
   "metadata": {},
   "outputs": [
    {
     "data": {
      "text/plain": [
       "SVR(C=1.0, cache_size=200, coef0=0.0, degree=3, epsilon=0.1, gamma='scale',\n",
       "  kernel='rbf', max_iter=-1, shrinking=True, tol=0.001, verbose=False)"
      ]
     },
     "execution_count": 28,
     "metadata": {},
     "output_type": "execute_result"
    }
   ],
   "source": [
    "y = dataset['Total']\n",
    "\n",
    "    \n",
    "x = dataset.drop(['Total','Reason for absence','Day of the week','Seasons','Transportation expense','Hit target',\n",
    "                     'Work load Average/day ','Social drinker','Social smoker','Weight','Height','Absenteeism time in hours','Month of absence',\n",
    "                      'Disciplinary failure'\n",
    "                     \n",
    "                     ], axis=1)\n",
    "\n",
    "from sklearn.svm import SVR\n",
    "svr_regressor = SVR(kernel='rbf',gamma='scale')\n",
    "svr_regressor.fit(X,y.ravel())\n",
    "\n"
   ]
  },
  {
   "cell_type": "code",
   "execution_count": 35,
   "metadata": {},
   "outputs": [
    {
     "data": {
      "text/plain": [
       "<matplotlib.axes._subplots.AxesSubplot at 0x7fa889941588>"
      ]
     },
     "execution_count": 35,
     "metadata": {},
     "output_type": "execute_result"
    },
    {
     "data": {
      "image/png": "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\n",
      "text/plain": [
       "<Figure size 432x288 with 1 Axes>"
      ]
     },
     "metadata": {
      "needs_background": "light"
     },
     "output_type": "display_data"
    }
   ],
   "source": [
    "def graphrvsA(X,Y):\n",
    "    graph = mldataset.groupby(X)[Y].sum()\n",
    "    graph = graph.reset_index()\n",
    "    graph[Y] = graph[Y] * 100 / sum(mldataset[Y]) #clean up the data\n",
    "    graph = graph.sort_values(by=['Absenteeism time in hours'])\n",
    "    return graph.plot.bar(X,Y)\n",
    "\n",
    "graphrvsA('Reason for absence','Absenteeism time in hours')"
   ]
  },
  {
   "cell_type": "code",
   "execution_count": 18,
   "metadata": {},
   "outputs": [],
   "source": []
  },
  {
   "cell_type": "code",
   "execution_count": 19,
   "metadata": {},
   "outputs": [
    {
     "data": {
      "text/html": [
       "<div>\n",
       "<style scoped>\n",
       "    .dataframe tbody tr th:only-of-type {\n",
       "        vertical-align: middle;\n",
       "    }\n",
       "\n",
       "    .dataframe tbody tr th {\n",
       "        vertical-align: top;\n",
       "    }\n",
       "\n",
       "    .dataframe thead th {\n",
       "        text-align: right;\n",
       "    }\n",
       "</style>\n",
       "<table border=\"1\" class=\"dataframe\">\n",
       "  <thead>\n",
       "    <tr style=\"text-align: right;\">\n",
       "      <th></th>\n",
       "      <th>Feature</th>\n",
       "      <th>importance</th>\n",
       "    </tr>\n",
       "  </thead>\n",
       "  <tbody>\n",
       "    <tr>\n",
       "      <th>0</th>\n",
       "      <td>Reason for absence</td>\n",
       "      <td>19.299702</td>\n",
       "    </tr>\n",
       "    <tr>\n",
       "      <th>1</th>\n",
       "      <td>Day of the week</td>\n",
       "      <td>14.441047</td>\n",
       "    </tr>\n",
       "    <tr>\n",
       "      <th>2</th>\n",
       "      <td>Month of absence</td>\n",
       "      <td>11.331393</td>\n",
       "    </tr>\n",
       "    <tr>\n",
       "      <th>3</th>\n",
       "      <td>Work load Average/day</td>\n",
       "      <td>10.137480</td>\n",
       "    </tr>\n",
       "    <tr>\n",
       "      <th>4</th>\n",
       "      <td>Hit target</td>\n",
       "      <td>7.264184</td>\n",
       "    </tr>\n",
       "    <tr>\n",
       "      <th>5</th>\n",
       "      <td>Seasons</td>\n",
       "      <td>6.651246</td>\n",
       "    </tr>\n",
       "    <tr>\n",
       "      <th>6</th>\n",
       "      <td>Age</td>\n",
       "      <td>5.424737</td>\n",
       "    </tr>\n",
       "    <tr>\n",
       "      <th>7</th>\n",
       "      <td>Height</td>\n",
       "      <td>3.026080</td>\n",
       "    </tr>\n",
       "    <tr>\n",
       "      <th>8</th>\n",
       "      <td>Disciplinary failure</td>\n",
       "      <td>2.882569</td>\n",
       "    </tr>\n",
       "    <tr>\n",
       "      <th>9</th>\n",
       "      <td>Total</td>\n",
       "      <td>2.848030</td>\n",
       "    </tr>\n",
       "    <tr>\n",
       "      <th>10</th>\n",
       "      <td>Son</td>\n",
       "      <td>2.181433</td>\n",
       "    </tr>\n",
       "    <tr>\n",
       "      <th>11</th>\n",
       "      <td>Transportation expense</td>\n",
       "      <td>2.118226</td>\n",
       "    </tr>\n",
       "    <tr>\n",
       "      <th>12</th>\n",
       "      <td>Distance from Residence to Work</td>\n",
       "      <td>2.066829</td>\n",
       "    </tr>\n",
       "    <tr>\n",
       "      <th>13</th>\n",
       "      <td>ID</td>\n",
       "      <td>2.041571</td>\n",
       "    </tr>\n",
       "    <tr>\n",
       "      <th>14</th>\n",
       "      <td>Social drinker</td>\n",
       "      <td>1.852200</td>\n",
       "    </tr>\n",
       "    <tr>\n",
       "      <th>15</th>\n",
       "      <td>Body mass index</td>\n",
       "      <td>1.406992</td>\n",
       "    </tr>\n",
       "    <tr>\n",
       "      <th>16</th>\n",
       "      <td>Weight</td>\n",
       "      <td>1.269477</td>\n",
       "    </tr>\n",
       "    <tr>\n",
       "      <th>17</th>\n",
       "      <td>Pet</td>\n",
       "      <td>1.243243</td>\n",
       "    </tr>\n",
       "    <tr>\n",
       "      <th>18</th>\n",
       "      <td>Education</td>\n",
       "      <td>1.020223</td>\n",
       "    </tr>\n",
       "    <tr>\n",
       "      <th>19</th>\n",
       "      <td>Social smoker</td>\n",
       "      <td>0.755783</td>\n",
       "    </tr>\n",
       "    <tr>\n",
       "      <th>20</th>\n",
       "      <td>Service time</td>\n",
       "      <td>0.737552</td>\n",
       "    </tr>\n",
       "  </tbody>\n",
       "</table>\n",
       "</div>"
      ],
      "text/plain": [
       "                            Feature  importance\n",
       "0                Reason for absence   19.299702\n",
       "1                   Day of the week   14.441047\n",
       "2                  Month of absence   11.331393\n",
       "3            Work load Average/day    10.137480\n",
       "4                        Hit target    7.264184\n",
       "5                           Seasons    6.651246\n",
       "6                               Age    5.424737\n",
       "7                            Height    3.026080\n",
       "8              Disciplinary failure    2.882569\n",
       "9                             Total    2.848030\n",
       "10                              Son    2.181433\n",
       "11           Transportation expense    2.118226\n",
       "12  Distance from Residence to Work    2.066829\n",
       "13                               ID    2.041571\n",
       "14                   Social drinker    1.852200\n",
       "15                  Body mass index    1.406992\n",
       "16                           Weight    1.269477\n",
       "17                              Pet    1.243243\n",
       "18                        Education    1.020223\n",
       "19                    Social smoker    0.755783\n",
       "20                     Service time    0.737552"
      ]
     },
     "execution_count": 19,
     "metadata": {},
     "output_type": "execute_result"
    }
   ],
   "source": [
    "from sklearn.ensemble import ExtraTreesRegressor\n",
    "regressor = ExtraTreesRegressor(n_estimators=70)\n",
    "X = dataset.drop(columns=('Absenteeism time in hours')) #everything but what we want to find.\n",
    "\n",
    "y = dataset['Absenteeism time in hours']\n",
    "regressor.fit(X, y)\n",
    "imp_feat = pd.DataFrame({'Feature': dataset.drop(columns='Absenteeism time in hours').columns,\n",
    "                         'importance':regressor.feature_importances_*100})\n",
    "imp_feat.sort_values(by = 'importance', ascending=False).reset_index(drop = True)"
   ]
  },
  {
   "cell_type": "code",
   "execution_count": 37,
   "metadata": {},
   "outputs": [],
   "source": [
    "from sklearn.neural_network import MLPRegressor"
   ]
  },
  {
   "cell_type": "code",
   "execution_count": null,
   "metadata": {},
   "outputs": [],
   "source": []
  },
  {
   "cell_type": "code",
   "execution_count": null,
   "metadata": {},
   "outputs": [],
   "source": []
  }
 ],
 "metadata": {
  "kernelspec": {
   "display_name": "Python 3",
   "language": "python",
   "name": "python3"
  },
  "language_info": {
   "codemirror_mode": {
    "name": "ipython",
    "version": 3
   },
   "file_extension": ".py",
   "mimetype": "text/x-python",
   "name": "python",
   "nbconvert_exporter": "python",
   "pygments_lexer": "ipython3",
   "version": "3.6.5"
  }
 },
 "nbformat": 4,
 "nbformat_minor": 2
}
